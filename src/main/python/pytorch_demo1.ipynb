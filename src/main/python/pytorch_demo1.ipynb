{
 "cells": [
  {
   "cell_type": "code",
   "execution_count": 15,
   "metadata": {},
   "outputs": [],
   "source": [
    "import torch \n",
    "import torch.nn.functional as F\n",
    "from torch.nn import *\n",
    "import numpy as np\n",
    "import matplotlib.pyplot as plt\n",
    "\n",
    "######创建一个假数据######\n",
    "n_data = torch.ones(100,2)\n",
    "# 第一个数据集\n",
    "x0 = torch.normal(2*n_data,1)\n",
    "y0 = torch.zeros(100)\n",
    "# 第二个数据集\n",
    "x1 = torch.normal(-2*n_data,1)\n",
    "y1 = torch.ones(100)\n",
    "# 合并数据集  --> 合并 并改变格式\n",
    "X = torch.cat((x0,x1),0).type(torch.FloatTensor)     # 32位浮点数\n",
    "y = torch.cat((y0,y1)).type(torch.LongTensor)        # 64 位整型"
   ]
  },
  {
   "cell_type": "code",
   "execution_count": null,
   "metadata": {},
   "outputs": [],
   "source": [
    "######定义我们的神经网络#######\n",
    "class MyNet(torch.nn.Module):\n",
    "    # n_feature 输入的神经元的数目  n_hidden 隐藏层中的神经元数目 n_output输入神经元的数目\n",
    "    def __init__(self,n_feature,n_hiddern,n_output):\n",
    "        # 必要步骤 调用父类\n",
    "        super(MyNet,self).__init__()\n",
    "        self.hidden = torch.nn.Linear(n_feature,n_hiddern)\n",
    "        self.predict = torch.nn.Linear(n_hiddern,n_output)\n",
    "    def forward(self,x):\n",
    "        x = F.relu(self.hidden(x))\n",
    "        x = self.predict(x)\n",
    "        return(x)"
   ]
  },
  {
   "cell_type": "code",
   "execution_count": 12,
   "metadata": {},
   "outputs": [
    {
     "name": "stdout",
     "output_type": "stream",
     "text": [
      "tensor(0.6900, grad_fn=<NllLossBackward0>)\n",
      "tensor(0.0467, grad_fn=<NllLossBackward0>)\n",
      "tensor(0.0254, grad_fn=<NllLossBackward0>)\n",
      "tensor(0.0175, grad_fn=<NllLossBackward0>)\n",
      "tensor(0.0133, grad_fn=<NllLossBackward0>)\n",
      "tensor(0.0108, grad_fn=<NllLossBackward0>)\n",
      "tensor(0.0091, grad_fn=<NllLossBackward0>)\n",
      "tensor(0.0078, grad_fn=<NllLossBackward0>)\n",
      "tensor(0.0069, grad_fn=<NllLossBackward0>)\n",
      "tensor(0.0061, grad_fn=<NllLossBackward0>)\n",
      "tensor(0.0055, grad_fn=<NllLossBackward0>)\n",
      "tensor(0.0051, grad_fn=<NllLossBackward0>)\n",
      "tensor(0.0046, grad_fn=<NllLossBackward0>)\n",
      "tensor(0.0043, grad_fn=<NllLossBackward0>)\n",
      "tensor(0.0040, grad_fn=<NllLossBackward0>)\n",
      "tensor(0.0037, grad_fn=<NllLossBackward0>)\n",
      "tensor(0.0035, grad_fn=<NllLossBackward0>)\n",
      "tensor(0.0033, grad_fn=<NllLossBackward0>)\n",
      "tensor(0.0031, grad_fn=<NllLossBackward0>)\n",
      "tensor(0.0029, grad_fn=<NllLossBackward0>)\n",
      "tensor(0.0028, grad_fn=<NllLossBackward0>)\n",
      "tensor(0.0027, grad_fn=<NllLossBackward0>)\n",
      "tensor(0.0025, grad_fn=<NllLossBackward0>)\n",
      "tensor(0.0024, grad_fn=<NllLossBackward0>)\n",
      "tensor(0.0023, grad_fn=<NllLossBackward0>)\n",
      "tensor(0.0022, grad_fn=<NllLossBackward0>)\n",
      "tensor(0.0022, grad_fn=<NllLossBackward0>)\n",
      "tensor(0.0021, grad_fn=<NllLossBackward0>)\n",
      "tensor(0.0020, grad_fn=<NllLossBackward0>)\n",
      "tensor(0.0019, grad_fn=<NllLossBackward0>)\n",
      "tensor(0.0019, grad_fn=<NllLossBackward0>)\n",
      "tensor(0.0018, grad_fn=<NllLossBackward0>)\n",
      "tensor(0.0017, grad_fn=<NllLossBackward0>)\n",
      "tensor(0.0017, grad_fn=<NllLossBackward0>)\n",
      "tensor(0.0016, grad_fn=<NllLossBackward0>)\n",
      "tensor(0.0016, grad_fn=<NllLossBackward0>)\n",
      "tensor(0.0015, grad_fn=<NllLossBackward0>)\n",
      "tensor(0.0015, grad_fn=<NllLossBackward0>)\n",
      "tensor(0.0015, grad_fn=<NllLossBackward0>)\n",
      "tensor(0.0014, grad_fn=<NllLossBackward0>)\n",
      "tensor(0.0014, grad_fn=<NllLossBackward0>)\n",
      "tensor(0.0013, grad_fn=<NllLossBackward0>)\n",
      "tensor(0.0013, grad_fn=<NllLossBackward0>)\n",
      "tensor(0.0013, grad_fn=<NllLossBackward0>)\n",
      "tensor(0.0013, grad_fn=<NllLossBackward0>)\n",
      "tensor(0.0012, grad_fn=<NllLossBackward0>)\n",
      "tensor(0.0012, grad_fn=<NllLossBackward0>)\n",
      "tensor(0.0012, grad_fn=<NllLossBackward0>)\n",
      "tensor(0.0011, grad_fn=<NllLossBackward0>)\n",
      "tensor(0.0011, grad_fn=<NllLossBackward0>)\n"
     ]
    }
   ],
   "source": [
    "######实例化我们的神经网络######\n",
    "# net = MyNet(2,10,2)\n",
    "net = Sequential(\n",
    "    Linear(2,10),\n",
    "    ReLU(),\n",
    "    Linear(10,2)\n",
    ")\n",
    "\n",
    "optimizer = torch.optim.SGD(net.parameters(),lr=0.1)\n",
    "loss_func = torch.nn.CrossEntropyLoss()      # 使用标签误差\n",
    "######训练我们的神经网络######\n",
    "for i in range(1000):\n",
    "    prediction = net(X)\n",
    "    loss = loss_func(prediction,y)\n",
    "    # 梯度归零\n",
    "    optimizer.zero_grad()\n",
    "    # 计算梯度\n",
    "    loss.backward()\n",
    "    # 更新结点\n",
    "    optimizer.step()\n",
    "    if i % 20 == 0:\n",
    "        print(loss)"
   ]
  },
  {
   "cell_type": "code",
   "execution_count": 16,
   "metadata": {},
   "outputs": [
    {
     "data": {
      "text/plain": [
       "<matplotlib.legend.Legend at 0x2c5ad9f20d0>"
      ]
     },
     "execution_count": 16,
     "metadata": {},
     "output_type": "execute_result"
    },
    {
     "data": {
      "image/png": "[encoded data removed]",
      "text/plain": [
       "<Figure size 720x720 with 1 Axes>"
      ]
     },
     "metadata": {
      "needs_background": "light"
     },
     "output_type": "display_data"
    }
   ],
   "source": [
    "plt.figure(figsize=(10,10))\n",
    "plt.legend(handles=[plt.scatter(x0[:,0],x0[:,1],c=\"r\"),plt.scatter(x1[:,0],x1[:,1])],labels=['claas = 0','claas = 1'],loc='best')\n"
   ]
  },
  {
   "cell_type": "code",
   "execution_count": 18,
   "metadata": {},
   "outputs": [
    {
     "name": "stdout",
     "output_type": "stream",
     "text": [
      "tensor([-1.1356,  0.6164], grad_fn=<AddBackward0>)\n"
     ]
    },
    {
     "data": {
      "text/plain": [
       "1"
      ]
     },
     "execution_count": 18,
     "metadata": {},
     "output_type": "execute_result"
    }
   ],
   "source": [
    "######作出预测######\n",
    "x1 = torch.FloatTensor([-0.51,0])  # !!! 必须要转换成Tensor的形式\n",
    "print(net(x1))\n",
    "np.argmax(net(x1).data.numpy())\n"
   ]
  },
  {
   "cell_type": "code",
   "execution_count": null,
   "metadata": {},
   "outputs": [],
   "source": [
    "net(x1).data.numpy"
   ]
  },
  {
   "cell_type": "code",
   "execution_count": null,
   "metadata": {},
   "outputs": [],
   "source": []
  }
 ],
 "metadata": {
  "kernelspec": {
   "display_name": "Python 3.9.1 ('mlenv': venv)",
   "language": "python",
   "name": "python3"
  },
  "language_info": {
   "codemirror_mode": {
    "name": "ipython",
    "version": 3
   },
   "file_extension": ".py",
   "mimetype": "text/x-python",
   "name": "python",
   "nbconvert_exporter": "python",
   "pygments_lexer": "ipython3",
   "version": "3.9.1"
  },
  "orig_nbformat": 4,
  "vscode": {
   "interpreter": {
    "hash": "e5a39bfe70e88d79ba0bf14112eef8caec9261986967a0defa5f513e36b65c41"
   }
  }
 },
 "nbformat": 4,
 "nbformat_minor": 2
}
